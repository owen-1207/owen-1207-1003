{
  "nbformat": 4,
  "nbformat_minor": 0,
  "metadata": {
    "colab": {
      "provenance": []
    },
    "kernelspec": {
      "name": "python3",
      "display_name": "Python 3"
    },
    "language_info": {
      "name": "python"
    }
  },
  "cells": [
    {
      "cell_type": "code",
      "execution_count": null,
      "metadata": {
        "colab": {
          "base_uri": "https://localhost:8080/"
        },
        "id": "Y1PfufoSc44u",
        "outputId": "452efeea-97c8-45bd-ee20-b76bd0be8b5e"
      },
      "outputs": [
        {
          "output_type": "stream",
          "name": "stdout",
          "text": [
            "['K', 'B', 'U']\n",
            "A\n"
          ]
        }
      ],
      "source": [
        "a='C,B,A'\n",
        "b=['F','G','H']\n",
        "c=a.split(',')\n",
        "c.append(b)\n",
        "c[0]='K'\n",
        "d=c.pop(2)\n",
        "del c[2:4]\n",
        "c.append('U')\n",
        "print(c)\n",
        "print(d)"
      ]
    },
    {
      "cell_type": "code",
      "source": [
        "l=input('身高')\n",
        "w=input('體重')\n",
        "l=float(l)\n",
        "w=float(w)\n",
        "l**=2\n",
        "w/=l\n",
        "print(\"BMI:\",w)\n",
        "if w<18.5:\n",
        "    print('過輕')\n",
        "elif 18.5<=w<24:\n",
        "    print('適中')\n",
        "elif 24<=w<27:\n",
        "    print('過重')\n",
        "else:\n",
        "    print('肥胖')\n"
      ],
      "metadata": {
        "colab": {
          "base_uri": "https://localhost:8080/"
        },
        "id": "7RuUSnYUl6Ef",
        "outputId": "0443d52b-5fae-4674-c5f8-62481efcdc86"
      },
      "execution_count": null,
      "outputs": [
        {
          "output_type": "stream",
          "name": "stdout",
          "text": [
            "身高1.7\n",
            "體重56\n",
            "BMI: 19.377162629757787\n",
            "適中\n"
          ]
        }
      ]
    }
  ]
}