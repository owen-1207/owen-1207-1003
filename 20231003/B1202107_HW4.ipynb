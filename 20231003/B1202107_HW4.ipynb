{
  "nbformat": 4,
  "nbformat_minor": 0,
  "metadata": {
    "colab": {
      "provenance": []
    },
    "kernelspec": {
      "name": "python3",
      "display_name": "Python 3"
    },
    "language_info": {
      "name": "python"
    }
  },
  "cells": [
    {
      "cell_type": "code",
      "source": [
        "num1, num2, num3, num4, num5 = map(int, input().split())\n",
        "maxV = num1\n",
        "minV = num5\n",
        "\n",
        "if (num2 > maxV):\n",
        "    maxV = num2\n",
        "if (num3 > maxV):\n",
        "    maxV = num3\n",
        "if (num4 > maxV):\n",
        "    maxV = num4\n",
        "if (num5 > maxV):\n",
        "    maxV = num5\n",
        "\n",
        "if (num4 < maxV):\n",
        "    minV = num4\n",
        "if (num3 < maxV):\n",
        "    minV = num3\n",
        "if (num2 < minV):\n",
        "    minV = num2\n",
        "if (num1 < minV):\n",
        "    minV = num1\n",
        "\n",
        "sum=((num1+num2+num3+num4+num5-maxV-minV)/3)\n",
        "print(\"其餘三數之平均：\",sum)"
      ],
      "metadata": {
        "colab": {
          "base_uri": "https://localhost:8080/"
        },
        "id": "PrDVHNzwlnJ9",
        "outputId": "247b2b1b-d7a4-4710-bf69-ad7014fc2005"
      },
      "execution_count": null,
      "outputs": [
        {
          "output_type": "stream",
          "name": "stdout",
          "text": [
            "1 2 3 4 5\n",
            "其餘三數之平均： 3.0\n"
          ]
        }
      ]
    },
    {
      "cell_type": "code",
      "source": [
        "a=float(input(\"第一個數字\"))\n",
        "b=float(input(\"第二個數字\"))\n",
        "c=str(input(\"運算符號\"))\n",
        "\n",
        "if c=='+':\n",
        "    print(a+b)\n",
        "if c=='-':\n",
        "    print(a-b)\n",
        "if c=='*':\n",
        "    print(a*b)\n",
        "if c=='/':\n",
        "    print(a/b)"
      ],
      "metadata": {
        "colab": {
          "base_uri": "https://localhost:8080/"
        },
        "id": "Shu5OujXxMaf",
        "outputId": "5a235c4f-c83d-43c6-ab7f-d670579e865c"
      },
      "execution_count": null,
      "outputs": [
        {
          "output_type": "stream",
          "name": "stdout",
          "text": [
            "第一個數字24\n",
            "第二個數字66\n",
            "運算符號*\n",
            "1584.0\n"
          ]
        }
      ]
    },
    {
      "cell_type": "code",
      "source": [
        "a = int(input(\"請輸入一個年份: \"))\n",
        "\n",
        "if a <= 1582:\n",
        "    b = a % 4 == 0\n",
        "else:\n",
        "    b = (a % 4 == 0 and a % 100 != 0) or (a % 400 == 0)\n",
        "\n",
        "if b:\n",
        "    print(\"閏年\")\n",
        "else:\n",
        "    print(\"平年\")\n"
      ],
      "metadata": {
        "colab": {
          "base_uri": "https://localhost:8080/"
        },
        "id": "LESHF7QEo4If",
        "outputId": "fee4680a-30e6-4610-a984-59b887f60442"
      },
      "execution_count": 1,
      "outputs": [
        {
          "output_type": "stream",
          "name": "stdout",
          "text": [
            "請輸入一個年份: 1582\n",
            "平年\n"
          ]
        }
      ]
    }
  ]
}